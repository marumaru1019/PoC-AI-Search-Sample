{
 "cells": [
  {
   "cell_type": "markdown",
   "id": "810ce279",
   "metadata": {},
   "source": [
    "# プッシュドキュメントAPIを使用したドキュメントレベルアクセスの例\n",
    "\n",
    "Azure AI Searchでは、JSONドキュメントペイロードを検索インデックスにアップロードしてインデックス化できます。このノートブックでは、[ドキュメントレベルでのユーザーアクセス権限](azure/search/search-document-level-access-overview)を含むドキュメントをインデックス化し、ユーザーが表示を許可されている結果のみを返すようにインデックスをクエリする方法を示します。\n",
    "\n",
    "クエリアクセストークンの背後にあるセキュリティプリンシパルが「ユーザー」を決定します。ドキュメント内の権限メタデータは、ユーザーがコンテンツに対する認可を持っているかどうかを決定します。内部的に、検索エンジンはセキュリティプリンシパルに関連付けられていないドキュメントをフィルタリングします。\n",
    "\n",
    "この機能は現在プレビュー段階です。\n",
    "\n",
    "インデクサーとプルAPIを使用した代替アプローチについては、[Quickstart-Document-Permissions-Pull-API](../Quickstart-Document-Permissions-Pull-API/document-permissions-pull-api.ipynb)を参照してください。\n"
   ]
  },
  {
   "cell_type": "markdown",
   "id": "b6585426",
   "metadata": {},
   "source": [
    "## 前提条件\n",
    "\n",
    "+ Azure AI Search、[ロールベースのアクセス制御](https://learn.microsoft.com/azure/search/search-security-enable-roles)を持つもの。\n",
    "\n",
    "## 権限\n",
    "\n",
    "このチュートリアルではMicrosoft Entra ID認証と認可を使用します。\n",
    "\n",
    "Azure AI Searchでは、オブジェクトを作成してクエリを実行するためにロール割り当てが必要です：\n",
    "\n",
    "+ **Search Service Contributor**\n",
    "+ **Search Index Data Contributor**\n",
    "+ **Search Index Data Reader**\n",
    "\n",
    "詳細については、[ロールを使用してAzure AI Searchに接続する](https://learn.microsoft.com/azure/search/search-security-rbac)と[クイックスタート: ローカルテスト用にキーなしで接続する](https://learn.microsoft.com/azure/search/search-get-started-rbac)を参照してください。\n",
    "\n",
    "## 環境変数の設定\n",
    "\n",
    "1. `sample.env`を`.env`にリネームします。\n",
    "1. `.env`ファイルで、検索サービスへの完全なエンドポイント（https://your-search-service.search.windows.net）を提供します。\n",
    "1. 異なる名前を希望する場合は、デフォルトのインデックス名を置き換えます。\n",
    "\n",
    "## 接続の読み込み\n",
    "\n",
    "このサンプルコードを実行するには、仮想環境を作成することをお勧めします。Visual Studio Codeで、コントロールパレット（Ctrl+Shift+P）を開いて環境を作成してください。このノートブックはPython 3.10でテストされています。\n",
    "\n",
    "環境が作成されたら、環境変数を読み込みます。"
   ]
  },
  {
   "cell_type": "code",
   "execution_count": null,
   "id": "2975a7f5",
   "metadata": {},
   "outputs": [],
   "source": [
    "from dotenv import load_dotenv\n",
    "from azure.identity import DefaultAzureCredential, get_bearer_token_provider\n",
    "import os\n",
    "\n",
    "load_dotenv(override=True) # take environment variables from .env.\n",
    "\n",
    "# The following variables from your .env file are used in this notebook\n",
    "endpoint = os.environ[\"AZURE_SEARCH_ENDPOINT\"]\n",
    "credential = DefaultAzureCredential()\n",
    "index_name = os.getenv(\"AZURE_SEARCH_INDEX\")\n",
    "token_provider = get_bearer_token_provider(credential, \"https://search.azure.com/.default\")\n"
   ]
  },
  {
   "cell_type": "markdown",
   "id": "9327cf01",
   "metadata": {},
   "source": [
    "## サンプルインデックスの作成\n",
    "\n",
    "検索インデックスには、コンテンツと権限メタデータのフィールドを含める必要があります。新しい権限フィルターオプションを文字列フィールドに割り当て、フィールドがフィルタリング可能であることを確認してください。検索エンジンはクエリ時に内部的にフィルターを構築します。"
   ]
  },
  {
   "cell_type": "code",
   "execution_count": null,
   "id": "9863061f",
   "metadata": {},
   "outputs": [],
   "source": [
    "from azure.search.documents.indexes.models import SearchField, SearchIndex, PermissionFilter, SearchIndexPermissionFilterOption\n",
    "from azure.search.documents.indexes import SearchIndexClient\n",
    "\n",
    "index_client = SearchIndexClient(endpoint=endpoint, credential=credential)\n",
    "index = SearchIndex(\n",
    "    name=index_name,\n",
    "    fields=[\n",
    "        SearchField(name=\"id\", type=\"Edm.String\", key=True, filterable=True, sortable=True),\n",
    "        SearchField(name=\"oid\", type=\"Collection(Edm.String)\", retrievable=True, filterable=True, permission_filter=PermissionFilter.USER_IDS),\n",
    "        SearchField(name=\"group\", type=\"Collection(Edm.String)\", retrievable=True, filterable=True, permission_filter=PermissionFilter.GROUP_IDS),\n",
    "        SearchField(name=\"name\", type=\"Edm.String\", searchable=True)\n",
    "    ],\n",
    "    permission_filter_option=SearchIndexPermissionFilterOption.ENABLED\n",
    ")\n",
    "\n",
    "index_client.create_index(index=index)\n",
    "print(f\"Index '{index_name}' created with permission filter option enabled.\")"
   ]
  },
  {
   "cell_type": "markdown",
   "id": "f5cf4169",
   "metadata": {},
   "source": [
    "## Graphに接続してオブジェクトID（OID）とグループを見つける\n",
    "\n",
    "このステップでは、Graph APIを呼び出してMicrosoft Entra IDのグループIDをいくつか取得します。あなたのグループIDは、次のステップで作成されるオブジェクトのアクセス制御リストに追加されます。"
   ]
  },
  {
   "cell_type": "code",
   "execution_count": null,
   "id": "63904f09",
   "metadata": {},
   "outputs": [],
   "source": [
    "from msgraph import GraphServiceClient\n",
    "client = GraphServiceClient(credentials=credential, scopes=[\"https://graph.microsoft.com/.default\"])\n",
    "\n",
    "groups = await client.me.member_of.get()\n",
    "me = await client.me.get()\n",
    "oid = me.id"
   ]
  },
  {
   "cell_type": "markdown",
   "id": "a9ce6d0f",
   "metadata": {},
   "source": [
    "## サンプルデータのアップロード\n",
    "\n",
    "このステップでは、コンテナー、フォルダーを作成し、ドキュメントをAzure Storageにアップロードします。各ファイルのアクセス制御リストにあなたのグループIDを割り当てます。"
   ]
  },
  {
   "cell_type": "code",
   "execution_count": null,
   "id": "8fb830a1",
   "metadata": {},
   "outputs": [],
   "source": [
    "from azure.search.documents import SearchClient\n",
    "search_client = SearchClient(endpoint=endpoint, index_name=index_name, credential=credential)\n",
    "\n",
    "documents = [\n",
    "    { \"id\": \"1\", \"oid\": [oid], \"group\": [groups.value[0].id], \"name\": \"Document 1\" },\n",
    "    { \"id\": \"2\", \"oid\": [\"all\"], \"group\": [groups.value[0].id], \"name\": \"Document 2\" },\n",
    "    { \"id\": \"3\", \"oid\": [oid], \"group\": [\"all\"], \"name\": \"Document 3\" },\n",
    "    { \"id\": \"4\", \"oid\": [\"none\"], \"group\": [\"none\"], \"name\": \"Document 4\" },\n",
    "    { \"id\": \"5\", \"oid\": [\"none\"], \"group\": [groups.value[0].id], \"name\": \"Document 5\" },\n",
    "]\n",
    "search_client.upload_documents(documents=documents)\n",
    "print(\"Documents uploaded to the index.\")\n"
   ]
  },
  {
   "cell_type": "markdown",
   "id": "e5c93f76",
   "metadata": {},
   "source": [
    "## x-ms-query-source-authorizationを使用したサンプルデータの検索\n",
    "\n",
    "このクエリでは、無条件検索を提供するために空の検索文字列（`*`）を使用します。ファイル名と各ファイルに関連付けられた権限メタデータを返します。各ファイルが異なるグループIDに関連付けられていることに注意してください。"
   ]
  },
  {
   "cell_type": "code",
   "execution_count": null,
   "id": "cd872e8c",
   "metadata": {},
   "outputs": [],
   "source": [
    "results = search_client.search(search_text=\"*\", x_ms_query_source_authorization=token_provider(), select=\"name,oid,group\", order_by=\"id asc\")\n",
    "\n",
    "for result in results:\n",
    "    print(f\"Name: {result['name']}, OID: {result['oid']}, Group: {result['group']}\")"
   ]
  },
  {
   "cell_type": "markdown",
   "id": "d31b67d8",
   "metadata": {},
   "source": [
    "## x-ms-query-source-authorizationなしでのサンプルデータの検索\n",
    "\n",
    "このステップでは、認証が失敗した場合のユーザーエクスペリエンスを示します。レスポンスには結果が返されません。"
   ]
  },
  {
   "cell_type": "code",
   "execution_count": null,
   "id": "a1f2f2a0",
   "metadata": {},
   "outputs": [],
   "source": [
    "results = search_client.search(search_text=\"*\", x_ms_query_source_authorization=None, select=\"name,oid,group\", order_by=\"id asc\")\n",
    "\n",
    "for result in results:\n",
    "    print(f\"Name: {result['name']}, OID: {result['oid']}, Group: {result['group']}\")"
   ]
  },
  {
   "cell_type": "markdown",
   "id": "5ad253ec",
   "metadata": {},
   "source": [
    "## 次のステップ\n",
    "\n",
    "詳細については、[Azure AI Searchでのドキュメントレベルアクセス制御](https://learn.microsoft.com/azure/search/search-document-level-access-overview)を参照してください。"
   ]
  }
 ],
 "metadata": {
  "kernelspec": {
   "display_name": ".venv",
   "language": "python",
   "name": "python3"
  },
  "language_info": {
   "codemirror_mode": {
    "name": "ipython",
    "version": 3
   },
   "file_extension": ".py",
   "mimetype": "text/x-python",
   "name": "python",
   "nbconvert_exporter": "python",
   "pygments_lexer": "ipython3",
   "version": "3.12.10"
  }
 },
 "nbformat": 4,
 "nbformat_minor": 5
}
