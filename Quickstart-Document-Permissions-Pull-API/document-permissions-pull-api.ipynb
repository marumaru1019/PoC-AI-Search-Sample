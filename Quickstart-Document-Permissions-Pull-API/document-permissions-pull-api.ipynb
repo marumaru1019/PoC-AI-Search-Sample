{
 "cells": [
  {
   "cell_type": "markdown",
   "id": "aba4346f",
   "metadata": {},
   "source": [
    "# インデクサープルAPIを使用したAzure AI Searchでのドキュメントレベルアクセス制御\n",
    "\n",
    "Azure AI Searchでは、インデクサーを使用してコンテンツを検索インデックスにプルしてインデックス化できます。このノートブックでは、Azure Storage Data Lake Storage (ADLS) Gen2でアクセス制御リスト (ACL) を持つBlobをインデックス化し、ユーザーが表示を許可されている結果のみを返すようにインデックスをクエリする方法を示します。\n",
    "\n",
    "クエリアクセストークンの背後にあるセキュリティプリンシパルが「ユーザー」を決定します。フォルダーとファイルのACLは、ユーザーがコンテンツの表示を許可されているかどうかを決定し、そのメタデータは他のドキュメントコンテンツと共にインデックスにプルされます。クエリ時に、検索エンジンは内部的にオブジェクトIDに関連付けられていないドキュメントをフィルタリングします。\n",
    "\n",
    "この機能は現在プレビュー段階です。\n",
    "\n",
    "あらゆるデータをインデックス化するためのプッシュAPIを使用した代替アプローチについては、[Quickstart-Document-Permissions-Push-API](../Quickstart-Document-Permissions-Push-API/document-permissions-push-api.ipynb)を参照してください。\n",
    "\n",
    "\n",
    "## 前提条件\n",
    "\n",
    "+ Azure AI Search、基本階層以上、[システム割り当てマネージドID](https://learn.microsoft.com/azure/search/search-howto-managed-identities-data-sources)と[ロールベースのアクセス制御](https://learn.microsoft.com/azure/search/search-security-enable-roles)を持つもの。\n",
    "\n",
    "+ Azure Storage、汎用アカウント、[階層名前空間](https://learn.microsoft.com/azure/storage/blobs/create-data-lake-storage-account)を持つもの。\n",
    "\n",
    "+ フォルダーとファイル、各ファイルに[アクセス制御リストが指定](https://learn.microsoft.com/azure/storage/blobs/data-lake-storage-access-control)されているもの。グループIDの使用を推奨します。\n",
    "\n",
    "## 権限\n",
    "\n",
    "このチュートリアルではMicrosoft Entra ID認証と認可を使用します。\n",
    "\n",
    "+ Azure Storageでは、ローカルでテストしているため、検索サービスIDとユーザーアカウントの両方に**Storage Blob Data Reader**権限が必要です。サンプルにはコンテナーとその内容を作成・設定するコードが含まれているため、**Storage Blob Data Contributor**も必要です。\n",
    "\n",
    "+ Azure AI Searchでは、オブジェクトを作成してクエリを実行するために**Search Service Contributor**、**Search Index Data Contributor**、**Search Index Data Reader**権限を自分に割り当ててください。詳細については、[ロールを使用してAzure AI Searchに接続する](https://learn.microsoft.com/azure/search/search-security-rbac)と[クイックスタート: ローカルテスト用にキーなしで接続する](https://learn.microsoft.com/azure/search/search-get-started-rbac)を参照してください。\n",
    "\n",
    "## 制限事項\n",
    "\n",
    "+ 解析インデクサーオプションは現在サポートされていません。CSV、JSON、またはMarkdown解析のサポートはありません。"
   ]
  },
  {
   "cell_type": "markdown",
   "id": "f445040a",
   "metadata": {},
   "source": [
    "## 接続の設定\n",
    "\n",
    "`sample.env`ファイルを`.env`として保存し、環境変数をAzureエンドポイントを使用するように変更してください。すべての変数を指定する必要があります。\n",
    "\n",
    "以下のエンドポイントが必要です:\n",
    "\n",
    "+ Azure AI Search\n",
    "+ Azure Storage\n",
    "\n",
    "Azure AI Searchの場合、[Azureポータル](https://portal.azure.com)の概要ページの**基本情報**セクションでエンドポイントを見つけてください。\n",
    "\n",
    "Azure Storageの場合、[ストレージアカウント設定情報の取得](https://learn.microsoft.com/azure/storage/common/storage-account-get-info)のガイダンスに従って、`.env`ファイル内のすべての変数を指定してください。\n",
    "\n",
    "\n",
    "## 接続の読み込み\n",
    "\n",
    "このサンプルコードを実行するには、仮想環境を作成することをお勧めします。Visual Studio Codeで、コントロールパレット（Ctrl+Shift+P）を開いて環境を作成してください。このノートブックはPython 3.10でテストされています。\n",
    "\n",
    "環境が作成されたら、環境変数を読み込んで接続とオブジェクト名を設定します。"
   ]
  },
  {
   "cell_type": "code",
   "execution_count": null,
   "id": "ac036e3a",
   "metadata": {},
   "outputs": [],
   "source": [
    "!az login"
   ]
  },
  {
   "cell_type": "code",
   "execution_count": null,
   "id": "0b40bb5b",
   "metadata": {},
   "outputs": [],
   "source": [
    "from dotenv import load_dotenv\n",
    "from azure.identity import DefaultAzureCredential, get_bearer_token_provider\n",
    "import os\n",
    "\n",
    "load_dotenv(override=True) # take environment variables from .env.\n",
    "\n",
    "# The following variables from your .env file are used in this notebook\n",
    "endpoint = os.environ[\"AZURE_SEARCH_ENDPOINT\"]\n",
    "credential = DefaultAzureCredential()\n",
    "index_name = os.getenv(\"AZURE_SEARCH_INDEX\", \"document-permissions-indexer-idx\")\n",
    "indexer_name = os.getenv(\"AZURE_SEARCH_INDEXER\", \"document-permissions-indexer-idxr\")\n",
    "datasource_name = os.getenv(\"AZURE_SEARCH_DATASOURCE\", \"document-permissions-indexer-ds\")\n",
    "adls_gen2_account_name = os.getenv(\"AZURE_STORAGE_ACCOUNT_NAME\")\n",
    "adls_gen2_container_name = os.getenv(\"AZURE_STORAGE_CONTAINER_NAME\")\n",
    "adls_gen2_connection_string = os.environ[\"AZURE_STORAGE_CONNECTION_STRING\"]\n",
    "adls_gen2_resource_id = os.environ[\"AZURE_STORAGE_RESOURCE_ID\"]\n",
    "token_provider = get_bearer_token_provider(credential, \"https://search.azure.com/.default\")"
   ]
  },
  {
   "cell_type": "markdown",
   "id": "2d46b940",
   "metadata": {},
   "source": [
    "## インデックスの作成\n",
    "\n",
    "検索インデックスには、コンテンツと権限メタデータのフィールドを含める必要があります。新しい権限フィルターオプションを文字列フィールドに割り当て、フィールドがフィルタリング可能であることを確認してください。検索エンジンはクエリ時に内部的にフィルターを構築します。"
   ]
  },
  {
   "cell_type": "code",
   "execution_count": null,
   "id": "2f981cad",
   "metadata": {},
   "outputs": [],
   "source": [
    "from azure.search.documents.indexes.models import SearchField, SearchIndex, PermissionFilter, SearchIndexPermissionFilterOption\n",
    "from azure.search.documents.indexes import SearchIndexClient\n",
    "\n",
    "index_client = SearchIndexClient(endpoint=endpoint, credential=credential)\n",
    "index = SearchIndex(\n",
    "    name=index_name,\n",
    "    fields=[\n",
    "        SearchField(name=\"id\", type=\"Edm.String\", key=True, filterable=True, sortable=True),\n",
    "        SearchField(name=\"content\", type=\"Edm.String\", searchable=True, filterable=False, sortable=False),\n",
    "        SearchField(name=\"oids\", type=\"Collection(Edm.String)\", filterable=True, permission_filter=PermissionFilter.USER_IDS),\n",
    "        SearchField(name=\"groups\", type=\"Collection(Edm.String)\", filterable=True, permission_filter=PermissionFilter.GROUP_IDS),\n",
    "        SearchField(name=\"metadata_storage_path\", type=\"Edm.String\", searchable=True),\n",
    "        SearchField(name=\"metadata_storage_name\", type=\"Edm.String\", searchable=True)\n",
    "    ],\n",
    "    permission_filter_option=SearchIndexPermissionFilterOption.ENABLED\n",
    ")\n",
    "\n",
    "index_client.create_or_update_index(index=index)\n",
    "print(f\"Index '{index_name}' created with permission filter option enabled.\")"
   ]
  },
  {
   "cell_type": "markdown",
   "id": "2b8945a2",
   "metadata": {},
   "source": [
    "## データソースの作成\n",
    "\n",
    "インデクサーが権限メタデータを取得することを認識できるように、`IndexerPermissionOption`を設定します。"
   ]
  },
  {
   "cell_type": "code",
   "execution_count": null,
   "id": "b25aaf7b",
   "metadata": {},
   "outputs": [],
   "source": [
    "from azure.search.documents.indexes.models import SearchIndexerDataSourceConnection, SearchIndexerDataSourceType, IndexerPermissionOption, SearchIndexerDataContainer, DataSourceCredentials\n",
    "from azure.search.documents.indexes import SearchIndexerClient\n",
    "indexer_client = SearchIndexerClient(endpoint=endpoint, credential=credential)\n",
    "datasource = SearchIndexerDataSourceConnection(\n",
    "    name=datasource_name,\n",
    "    type=SearchIndexerDataSourceType.ADLS_GEN2,\n",
    "    connection_string=f\"ResourceId={adls_gen2_resource_id};\",\n",
    "    container=SearchIndexerDataContainer(name=adls_gen2_container_name),\n",
    "    indexer_permission_options=[IndexerPermissionOption.GROUP_IDS]\n",
    ")\n",
    "\n",
    "indexer_client.create_or_update_data_source_connection(datasource)\n",
    "print(f\"Datasource '{datasource_name}' created with permission filter option enabled.\")"
   ]
  },
  {
   "cell_type": "markdown",
   "id": "ff5b912d",
   "metadata": {},
   "source": [
    "## グループIDの取得\n",
    "\n",
    "このステップでは、Graph APIを呼び出してMicrosoft Entra IDのグループIDをいくつか取得します。あなたのグループIDは、次のステップで作成されるオブジェクトのアクセス制御リストに追加されます。2つのグループ識別子が取得され、それぞれ異なるファイルに割り当てられます。"
   ]
  },
  {
   "cell_type": "code",
   "execution_count": null,
   "id": "329fe160",
   "metadata": {},
   "outputs": [],
   "source": [
    "from msgraph import GraphServiceClient\n",
    "client = GraphServiceClient(credentials=credential, scopes=[\"https://graph.microsoft.com/.default\"])\n",
    "\n",
    "groups = await client.me.member_of.get()\n",
    "first_group_id = groups.value[0].id\n",
    "second_group_id = groups.value[1].id"
   ]
  },
  {
   "cell_type": "markdown",
   "id": "20588dc3",
   "metadata": {},
   "source": [
    "## サンプルディレクトリとファイルのアップロード\n",
    "\n",
    "このステップでは、コンテナー、フォルダーを作成し、ファイルをAzure Storageにアップロードします。各ファイルのアクセス制御リストにあなたのグループIDを割り当てます。"
   ]
  },
  {
   "cell_type": "code",
   "execution_count": null,
   "id": "acd28b29",
   "metadata": {},
   "outputs": [],
   "source": [
    "from azure.storage.filedatalake import DataLakeServiceClient\n",
    "import requests\n",
    "\n",
    "service = DataLakeServiceClient.from_connection_string(adls_gen2_connection_string, credential=credential)\n",
    "container = service.get_file_system_client(adls_gen2_container_name)\n",
    "if not container.exists():\n",
    "    container.create_file_system()\n",
    "root_dir_client = container.get_directory_client(\"/\")\n",
    "state_parks_dir_client = container.get_directory_client(\"state-parks\")\n",
    "state_parks_dir_client.create_directory()\n",
    "root_dir_client.update_access_control_recursive(f\"group:{first_group_id}:rwx\")\n",
    "root_dir_client.update_access_control_recursive(f\"group:{second_group_id}:rwx\")\n",
    "\n",
    "oregon_dir_client = state_parks_dir_client.create_sub_directory(\"oregon\")\n",
    "oregon_dir_client.create_directory()\n",
    "file_client = oregon_dir_client.create_file(\"oregon_state_parks.csv\")\n",
    "oregon_state_parks_content = requests.get(\"https://raw.githubusercontent.com/Azure-Samples/azure-search-sample-data/refs/heads/main/state-parks/Oregon/oregon_state_parks.csv\").content.decode(\"utf-8\")\n",
    "file_client.upload_data(oregon_state_parks_content, overwrite=True)\n",
    "oregon_dir_client.update_access_control_recursive(f\"group:{first_group_id}:rwx\")\n",
    "\n",
    "washington_dir_client = state_parks_dir_client.create_sub_directory(\"washington\")\n",
    "washington_dir_client.create_directory()\n",
    "file_client = washington_dir_client.create_file(\"washington_state_parks.csv\")\n",
    "washington_state_parks_content = requests.get(\"https://raw.githubusercontent.com/Azure-Samples/azure-search-sample-data/refs/heads/main/state-parks/Washington/washington_state_parks.csv\").content.decode(\"utf-8\")\n",
    "file_client.upload_data(washington_state_parks_content, overwrite=True)\n",
    "washington_dir_client.update_access_control_recursive(f\"group:{second_group_id}:rwx\")"
   ]
  },
  {
   "cell_type": "markdown",
   "id": "ca6de2ad",
   "metadata": {},
   "source": [
    "## インデクサーの実行\n",
    "\n",
    "インデクサーを開始して、データ取得からインデックス化まですべての操作を実行します。接続エラーや権限の問題はここで明らかになります。"
   ]
  },
  {
   "cell_type": "code",
   "execution_count": null,
   "id": "2ce7eb5e",
   "metadata": {},
   "outputs": [],
   "source": [
    "from azure.search.documents.indexes.models import SearchIndexer, FieldMapping\n",
    "\n",
    "indexer = SearchIndexer(\n",
    "    name=indexer_name,\n",
    "    target_index_name=index_name,\n",
    "    data_source_name=datasource_name,\n",
    "    field_mappings=[\n",
    "        FieldMapping(source_field_name=\"metadata_group_ids\", target_field_name=\"groups\"),\n",
    "        FieldMapping(source_field_name=\"metadata_user_ids\", target_field_name=\"oids\"),\n",
    "    ]\n",
    ")\n",
    "\n",
    "indexer_client.create_or_update_indexer(indexer)\n",
    "print(f\"Indexer '{indexer_name}' created\")\n"
   ]
  },
  {
   "cell_type": "markdown",
   "id": "987dd496",
   "metadata": {},
   "source": [
    "## x-ms-query-source-authorizationを使用したサンプルデータの検索\n",
    "\n",
    "クエリを実行する前に、インデクサーの処理が完了するまで待ってください。このクエリでは、無条件検索のために空の検索文字列（`*`）を使用します。ファイル名と各ファイルに関連付けられた権限メタデータを返します。各ファイルが異なるグループIDに関連付けられていることに注意してください。"
   ]
  },
  {
   "cell_type": "code",
   "execution_count": null,
   "id": "7a899da1",
   "metadata": {},
   "outputs": [],
   "source": [
    "from azure.search.documents import SearchClient\n",
    "search_client = SearchClient(endpoint=endpoint, index_name=index_name, credential=credential)\n",
    "\n",
    "results = search_client.search(search_text=\"*\", x_ms_query_source_authorization=token_provider(), select=\"metadata_storage_path,oids,groups\", order_by=\"id asc\")\n",
    "for result in results:\n",
    "    print(f\"Path: {result['metadata_storage_path']}, OID: {result['oids']}, Group: {result['groups']}\")"
   ]
  },
  {
   "cell_type": "code",
   "execution_count": null,
   "id": "accdaa90",
   "metadata": {},
   "outputs": [],
   "source": [
    "credential = DefaultAzureCredential()\n",
    "token_provider = get_bearer_token_provider(credential, \"https://search.azure.com/.default\")"
   ]
  },
  {
   "cell_type": "code",
   "execution_count": null,
   "id": "df2225e1",
   "metadata": {},
   "outputs": [],
   "source": [
    "from azure.search.documents import SearchClient\n",
    "search_client = SearchClient(endpoint=endpoint, index_name=index_name, credential=credential)\n",
    "\n",
    "results = search_client.search(search_text=\"*\", x_ms_query_source_authorization=token_provider(), select=\"metadata_storage_path,oids,groups\", order_by=\"id asc\")\n",
    "for result in results:\n",
    "    print(f\"Path: {result['metadata_storage_path']}, OID: {result['oids']}, Group: {result['groups']}\")"
   ]
  },
  {
   "cell_type": "markdown",
   "id": "c712ab8c",
   "metadata": {},
   "source": [
    "## x-ms-query-source-authorizationなしでのサンプルデータの検索\n",
    "\n",
    "このステップでは、認証が失敗した場合のユーザーエクスペリエンスを示します。レスポンスには結果が返されません。"
   ]
  },
  {
   "cell_type": "code",
   "execution_count": null,
   "id": "72d203f0",
   "metadata": {},
   "outputs": [],
   "source": [
    "from azure.search.documents import SearchClient\n",
    "search_client = SearchClient(endpoint=endpoint, index_name=index_name, credential=credential)\n",
    "\n",
    "results = search_client.search(search_text=\"*\", x_ms_query_source_authorization=None, select=\"metadata_storage_path,oids,groups\", order_by=\"id asc\")\n",
    "for result in results:\n",
    "    print(f\"Path: {result['metadata_storage_path']}, OID: {result['oids']}, Group: {result['groups']}\")"
   ]
  },
  {
   "cell_type": "code",
   "execution_count": null,
   "id": "ead26e0a",
   "metadata": {},
   "outputs": [],
   "source": [
    "from azure.search.documents import SearchClient\n",
    "search_client = SearchClient(endpoint=endpoint, index_name=index_name, credential=credential)\n",
    "\n",
    "results = search_client.search(search_text=\"*\", x_ms_query_source_authorization=None, select=\"metadata_storage_path,oids,groups\", order_by=\"id asc\")\n",
    "for result in results:\n",
    "    print(f\"Path: {result['metadata_storage_path']}, OID: {result['oids']}, Group: {result['groups']}\")"
   ]
  },
  {
   "cell_type": "markdown",
   "id": "e1ac3c84",
   "metadata": {},
   "source": [
    "## 次のステップ\n",
    "\n",
    "詳細については、[Azure AI Searchでのドキュメントレベルアクセス制御](https://learn.microsoft.com/azure/search/search-document-level-access-overview)を参照してください。"
   ]
  }
 ],
 "metadata": {
  "kernelspec": {
   "display_name": ".venv",
   "language": "python",
   "name": "python3"
  },
  "language_info": {
   "codemirror_mode": {
    "name": "ipython",
    "version": 3
   },
   "file_extension": ".py",
   "mimetype": "text/x-python",
   "name": "python",
   "nbconvert_exporter": "python",
   "pygments_lexer": "ipython3",
   "version": "3.11.9"
  }
 },
 "nbformat": 4,
 "nbformat_minor": 5
}
